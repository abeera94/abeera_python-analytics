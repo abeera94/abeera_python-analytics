{
  "nbformat": 4,
  "nbformat_minor": 0,
  "metadata": {
    "colab": {
      "name": "Abeera manattil",
      "provenance": [],
      "collapsed_sections": []
    },
    "kernelspec": {
      "name": "python3",
      "display_name": "Python 3"
    },
    "language_info": {
      "name": "python"
    }
  },
  "cells": [
    {
      "cell_type": "markdown",
      "metadata": {
        "id": "YU8z6sADjF9H"
      },
      "source": [
        "**TITANIC SURVIVOR ANALYSIS**"
      ]
    },
    {
      "cell_type": "code",
      "metadata": {
        "id": "brvkxq9YezJb"
      },
      "source": [
        "import pandas as pd\n",
        "import numpy as np"
      ],
      "execution_count": 2,
      "outputs": []
    },
    {
      "cell_type": "markdown",
      "metadata": {
        "id": "E6SiD0Oci7hv"
      },
      "source": [
        "**READING DATA USING PANDAS**\n"
      ]
    },
    {
      "cell_type": "markdown",
      "metadata": {
        "id": "T3C505c7kstP"
      },
      "source": [
        "we use pandas read_cvs function to read the cvs file in python and pandas DataFrame method to convert the file into data frame"
      ]
    },
    {
      "cell_type": "code",
      "metadata": {
        "id": "YARFyliHfttS"
      },
      "source": [
        "df = pd.DataFrame(pd.read_csv('/content/train (1).csv'))\n",
        "df.head()"
      ],
      "execution_count": null,
      "outputs": []
    },
    {
      "cell_type": "code",
      "metadata": {
        "id": "XyjlErhDhAjr"
      },
      "source": [
        "df.shape"
      ],
      "execution_count": null,
      "outputs": []
    },
    {
      "cell_type": "markdown",
      "metadata": {
        "id": "yvCuLId1ofIm"
      },
      "source": [
        "**HANDLING NULL VALUES**"
      ]
    },
    {
      "cell_type": "markdown",
      "metadata": {
        "id": "6TnVOu7roxnQ"
      },
      "source": [
        "The dataset may contains many rows and columns for which some values are missing,we can't leave those missing values as it is. In such case we have two options:"
      ]
    },
    {
      "cell_type": "markdown",
      "metadata": {
        "id": "hKchKtCbpzMe"
      },
      "source": [
        "1.Either drop the entire rows or columns"
      ]
    },
    {
      "cell_type": "markdown",
      "metadata": {
        "id": "HVmtG_oDqSwU"
      },
      "source": [
        "2.Fill the missing values with some appreciate values let's say mean of all the values for that columns may do the job"
      ]
    },
    {
      "cell_type": "code",
      "metadata": {
        "id": "peKFO8PZwB0c"
      },
      "source": [
        "df.isnull().sum()"
      ],
      "execution_count": null,
      "outputs": []
    },
    {
      "cell_type": "markdown",
      "metadata": {
        "id": "V32VB-lPwkho"
      },
      "source": [
        "**separating out the columns which have more than  40% of the values missing in the dataset**"
      ]
    },
    {
      "cell_type": "code",
      "metadata": {
        "id": "5_Tu3nvhwqVz"
      },
      "source": [
        "#df.isnull().sum() returns a pandas series with columns name as the label index \n",
        "#And total count of null values in the column as it's values\n",
        "#And total count of null values in the column as it's values\n",
        "\n",
        "drop_col = df.isnull().sum()[df.isnull().sum() >(40/100  *  df.shape[0])]\n",
        "drop_col"
      ],
      "execution_count": null,
      "outputs": []
    },
    {
      "cell_type": "markdown",
      "metadata": {
        "id": "xhrPHpaCy9Ml"
      },
      "source": [
        "**NOTE**: There is no specific number after which you should drop the column. It's just that we decided that on our own according to what we want."
      ]
    },
    {
      "cell_type": "code",
      "metadata": {
        "id": "P7megpPmzJ-o"
      },
      "source": [
        "drop_col.index"
      ],
      "execution_count": null,
      "outputs": []
    },
    {
      "cell_type": "code",
      "metadata": {
        "id": "sl8RTshi0CDu"
      },
      "source": [
        "df.drop(drop_col.index, axis=1, inplace=True)\n",
        "df.isnull().sum()"
      ],
      "execution_count": null,
      "outputs": []
    },
    {
      "cell_type": "code",
      "metadata": {
        "id": "q-UYGc4p2KIf"
      },
      "source": [
        "df.fillna(df.mean(), inplace = True)\n",
        "df.isnull().sum()"
      ],
      "execution_count": null,
      "outputs": []
    },
    {
      "cell_type": "markdown",
      "metadata": {
        "id": "1vLeWbZt2n3N"
      },
      "source": [
        "Beacause Embarked contains string values, we see the details of that column seperately from others as strings does not have mean and all."
      ]
    },
    {
      "cell_type": "code",
      "metadata": {
        "id": "xz39u3QO2sM9"
      },
      "source": [
        "df['Embarked'].describe()"
      ],
      "execution_count": null,
      "outputs": []
    },
    {
      "cell_type": "markdown",
      "metadata": {
        "id": "r23PsWM03D06"
      },
      "source": [
        "For Embarked attribute, we fill the NULL values with the most frequent value in the column."
      ]
    },
    {
      "cell_type": "code",
      "metadata": {
        "id": "5DkEX8Vz3PHA"
      },
      "source": [
        "df['Embarked'].fillna('s',inplace=True)"
      ],
      "execution_count": null,
      "outputs": []
    },
    {
      "cell_type": "code",
      "metadata": {
        "id": "o_mGOFuv3quf"
      },
      "source": [
        "df.isnull().sum()  ## NOW ALL THE NULL VALUES HAVE BEEN FILLED"
      ],
      "execution_count": null,
      "outputs": []
    },
    {
      "cell_type": "code",
      "metadata": {
        "id": "YfhUqztJ41B0"
      },
      "source": [
        "df.corr()"
      ],
      "execution_count": null,
      "outputs": []
    },
    {
      "cell_type": "markdown",
      "metadata": {
        "id": "eWeHTT8s6mCn"
      },
      "source": [
        "**sibsp**: Number of Siblings/Spouses Aboard\n",
        "\n",
        "**parch**: Number of Parents/Children Aboard So we can make a new column family size by combining these two columns"
      ]
    },
    {
      "cell_type": "code",
      "metadata": {
        "id": "P2txXoOM69Jg"
      },
      "source": [
        "df['FamilySize'] = df['SibSp']+df['Parch'] \n",
        "\n",
        "df.drop(['SibSp', 'Parch'], axis=1, inplace=True) \n",
        "\n",
        "df.corr()"
      ],
      "execution_count": null,
      "outputs": []
    },
    {
      "cell_type": "markdown",
      "metadata": {
        "id": "ErbYOJ157w_Z"
      },
      "source": [
        "FamilySize in the ship does not have much correlance with survival rate\n",
        "\n",
        "Let's check if we weather the person was alone or not can affect the survival rate."
      ]
    },
    {
      "cell_type": "code",
      "metadata": {
        "id": "5l9Gdmo88FRn"
      },
      "source": [
        "df[ 'Alone'] = [0 if df['FamilySize' ][i]>0 else 1 for i in df.index]\n",
        "\n",
        "df.head()"
      ],
      "execution_count": null,
      "outputs": []
    },
    {
      "cell_type": "code",
      "metadata": {
        "id": "GnzRx_Yd8sgs"
      },
      "source": [
        "df.groupby(['Alone'])['Survived'].mean()"
      ],
      "execution_count": null,
      "outputs": []
    },
    {
      "cell_type": "markdown",
      "metadata": {
        "id": "rp6MyjvF8zFW"
      },
      "source": [
        "If the person is alone he/she has less chance of surviving.\n",
        "\n",
        "The reason might be the person who is traveling with his family might be belonging to rich class and might be prioritized over other."
      ]
    },
    {
      "cell_type": "code",
      "metadata": {
        "id": "S-2I8L2e9alf"
      },
      "source": [
        "df[['Alone', 'Fare']].corr()"
      ],
      "execution_count": null,
      "outputs": []
    },
    {
      "cell_type": "markdown",
      "metadata": {
        "id": "YyqpUf0t9iFL"
      },
      "source": [
        "So we can see if the person was not alone, the chance the ticket price is higher is high."
      ]
    },
    {
      "cell_type": "code",
      "metadata": {
        "id": "oFPqStFg9zKK"
      },
      "source": [
        "df['sex'] = [0 if df['Sex'][i]=='male' else 1 for i in df.index] # 1 for female, for male \n",
        "\n",
        "df.groupby(['sex'])['Survived'].mean()"
      ],
      "execution_count": null,
      "outputs": []
    },
    {
      "cell_type": "markdown",
      "metadata": {
        "id": "E7de_Du_-UPd"
      },
      "source": [
        "It shows, female passengers have more chance of surviving than male ones.\n",
        "\n",
        "It shows women were prioritized over men."
      ]
    },
    {
      "cell_type": "code",
      "metadata": {
        "id": "b8Q9Tzj3-YBZ"
      },
      "source": [
        "df.groupby(['Embarked'])['Survived'].mean()"
      ],
      "execution_count": null,
      "outputs": []
    },
    {
      "cell_type": "markdown",
      "metadata": {
        "id": "PuSbN2wV-hTT"
      },
      "source": [
        "**CONCLUSION**"
      ]
    },
    {
      "cell_type": "markdown",
      "metadata": {
        "id": "Jgm5ZP6u-iT2"
      },
      "source": [
        "Female passengers were prioritized over men.\n",
        "\n",
        "• People with high class or rich people have higher survivl rate than others. The hieraric might have been followed while saving the passangers.\n",
        "\n",
        "• Passengers travelling with their family have higher survival rate.\n",
        "\n",
        "• Passengers who borded the ship at Cherbourg, survived more in proportion then the others."
      ]
    }
  ]
}